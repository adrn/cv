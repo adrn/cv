{
 "cells": [
  {
   "cell_type": "code",
   "execution_count": 1,
   "metadata": {
    "ExecuteTime": {
     "end_time": "2021-04-20T17:27:37.850933Z",
     "start_time": "2021-04-20T17:27:36.725162Z"
    }
   },
   "outputs": [],
   "source": [
    "import copy\n",
    "import json\n",
    "\n",
    "import astropy.coordinates as coord\n",
    "import astropy.table as at\n",
    "import astropy.units as u\n",
    "import matplotlib as mpl\n",
    "import matplotlib.pyplot as plt\n",
    "%matplotlib inline\n",
    "import numpy as np\n",
    "\n",
    "import os\n",
    "import sys\n",
    "sys.path.append(os.path.abspath('..'))"
   ]
  },
  {
   "cell_type": "code",
   "execution_count": 2,
   "metadata": {
    "ExecuteTime": {
     "end_time": "2021-04-20T17:27:37.860792Z",
     "start_time": "2021-04-20T17:27:37.852367Z"
    }
   },
   "outputs": [],
   "source": [
    "from pubs2tex import filter_papers, get_ref_unref"
   ]
  },
  {
   "cell_type": "code",
   "execution_count": 3,
   "metadata": {
    "ExecuteTime": {
     "end_time": "2021-04-20T17:27:37.870892Z",
     "start_time": "2021-04-20T17:27:37.864856Z"
    }
   },
   "outputs": [],
   "source": [
    "with open('../pubs.json', 'r') as f:\n",
    "    pubs = json.loads(f.read())"
   ]
  },
  {
   "cell_type": "code",
   "execution_count": 4,
   "metadata": {
    "ExecuteTime": {
     "end_time": "2021-04-20T17:27:37.886572Z",
     "start_time": "2021-04-20T17:27:37.872535Z"
    }
   },
   "outputs": [
    {
     "name": "stdout",
     "output_type": "stream",
     "text": [
      "Journal 'Zenodo' not recognized for paper 'SunPy' -  skipping...\n",
      "Journal 'Zenodo' not recognized for paper 'SunPy' -  skipping...\n",
      "Journal 'Zenodo' not recognized for paper 'adrn/gala: v1.3' -  skipping...\n",
      "Journal 'Zenodo' not recognized for paper 'SunPy' -  skipping...\n",
      "Journal 'Zenodo' not recognized for paper 'dfm/corner.py: corner.py v2.1.0.rc1' -  skipping...\n",
      "Journal 'Zenodo' not recognized for paper 'davidwhogg/GaussianProductRefactor: v1' -  skipping...\n",
      "Journal 'Zenodo' not recognized for paper 'exoplanet-dev/exoplanet: exoplanet v0.3.2' -  skipping...\n",
      "Journal 'Zenodo' not recognized for paper 'SunPy' -  skipping...\n",
      "Journal 'Zenodo' not recognized for paper 'sphinx-gallery/sphinx-gallery: Release v0.6.1' -  skipping...\n",
      "Journal 'Zenodo' not recognized for paper 'waqasbhatti/astrobase: astrobase v0.5.0' -  skipping...\n",
      "Journal 'Zenodo' not recognized for paper 'waqasbhatti/astrobase: astrobase v0.5.0' -  skipping...\n",
      "Journal 'Zenodo' not recognized for paper 'adrn/gala: v1.1' -  skipping...\n",
      "Journal 'Zenodo' not recognized for paper 'adrn/hq: The version used to run on APOGEE DR16' -  skipping...\n",
      "Journal 'Zenodo' not recognized for paper 'adrn/thejoker v1.0' -  skipping...\n",
      "Journal 'Zenodo' not recognized for paper 'adrn/makecite v0.5' -  skipping...\n",
      "Journal 'Bulletin of the American Astronomical Society' not recognized for paper 'SDSS-V Pioneering Panoptic Spectroscopy' -  skipping...\n",
      "Journal 'Bulletin of the American Astronomical Society' not recognized for paper 'The Growing Importance of a Tech Savvy Astronomy and Astrophysics Workforce' -  skipping...\n",
      "Journal 'Bulletin of the American Astronomical Society' not recognized for paper 'Sustaining Community-Driven Software for Astronomy in the 2020s' -  skipping...\n",
      "Journal 'A Synoptic View of the Magellanic Clouds: VMC, Gaia and Beyond' not recognized for paper 'A disrupting open cluster far into the Milky Way halo: star formation in the Magellanic stream?' -  skipping...\n",
      "Journal 'Bulletin of the American Astronomical Society' not recognized for paper 'A Need for Dedicated Outreach Expertise and Online Programming' -  skipping...\n",
      "Journal 'Bulletin of the American Astronomical Society' not recognized for paper 'Elevating the Role of Software as a Product of the Research Enterprise' -  skipping...\n",
      "Journal 'HST Proposal' not recognized for paper 'Cold Dark Matter and the GD-1 Stellar Stream' -  skipping...\n",
      "Journal 'HST Proposal' not recognized for paper 'Cold Dark Matter and the GD-1 Stellar Stream' -  skipping...\n",
      "Journal 'Bulletin of the American Astronomical Society' not recognized for paper 'Far Reaching Science with Resolved Stellar Populations in the 2020s' -  skipping...\n",
      "Journal 'Bulletin of the American Astronomical Society' not recognized for paper 'Stellar multiplicity: an interdisciplinary nexus' -  skipping...\n",
      "Journal 'Bulletin of the American Astronomical Society' not recognized for paper 'The Multidimensional Milky Way' -  skipping...\n",
      "Journal 'Bulletin of the American Astronomical Society' not recognized for paper 'In Pursuit of Galactic Archaeology' -  skipping...\n",
      "Journal 'Bulletin of the American Astronomical Society' not recognized for paper 'Dark Matter Physics with Wide Field Spectroscopic Surveys' -  skipping...\n",
      "Journal 'Zenodo' not recognized for paper 'adrn/gala: v1.0' -  skipping...\n",
      "Journal 'Kavli Institute for Theoretical Physics Conference: In the Balance: Stasis and Disequilibrium in the Milky Way' not recognized for paper 'A detailed look at the GD-1 stellar stream: density and stellar population' -  skipping...\n",
      "Journal 'Nature Communications' not recognized for paper 'Phenazine production promotes antibiotic tolerance and metabolic heterogeneity in Pseudomonas aeruginosa biofilms' -  skipping...\n",
      "Journal 'Zenodo' not recognized for paper 'Waqasbhatti/Astrobase: Astrobase V0.3.20' -  skipping...\n",
      "Journal 'Zenodo' not recognized for paper 'Dfm/Emcee: Emcee V3.0Rc2' -  skipping...\n",
      "Journal 'Zenodo' not recognized for paper 'Adrn/Makecite: V0.1' -  skipping...\n",
      "Journal 'Zenodo' not recognized for paper 'Adrn/Makecite: V0.2' -  skipping...\n",
      "Journal 'Zenodo' not recognized for paper 'Dfm/Emcee: Emcee V3.0Rc1' -  skipping...\n",
      "Journal 'Zenodo' not recognized for paper 'Adrn/Pyia: V0.3' -  skipping...\n",
      "Journal 'Zenodo' not recognized for paper 'Waqasbhatti/Astrobase: Astrobase V0.3.14' -  skipping...\n",
      "Journal 'Zenodo' not recognized for paper 'Adrn/Gala: V0.3' -  skipping...\n",
      "Journal 'Zenodo' not recognized for paper 'Adrn/Pyia: V0.2' -  skipping...\n",
      "Journal 'Zenodo' not recognized for paper 'Astropy/Astropy-V2.0-Paper: Final Draft' -  skipping...\n",
      "Journal 'Zenodo' not recognized for paper 'Astropy/Ccdproc: V1.3.0.Post1' -  skipping...\n",
      "Journal 'Zenodo' not recognized for paper 'Astropy/Astroplan: Astroplan V0.4' -  skipping...\n",
      "Journal 'Zenodo' not recognized for paper 'Adrn/Gala: V0.2.2' -  skipping...\n",
      "Journal 'Zenodo' not recognized for paper 'Adrn/Gala: V0.2.1' -  skipping...\n",
      "Journal 'Zenodo' not recognized for paper 'Smoh/Gaia-Comoving-Stars: Co-Moving Stars In Gaia Dr1' -  skipping...\n",
      "Journal 'Zenodo' not recognized for paper 'Adrn/Gala: V0.1.3' -  skipping...\n",
      "Journal 'Zenodo' not recognized for paper 'adrn/thejoker: Release v0.1' -  skipping...\n",
      "Journal 'Zenodo' not recognized for paper 'corner.py: corner.py v2.0.0' -  skipping...\n",
      "Journal 'Python in Astronomy 2016' not recognized for paper 'Python in Astronomy 2016 Unproceedings' -  skipping...\n",
      "Journal 'Zenodo' not recognized for paper 'Corner.Py: Corner.Py V1.0.2' -  skipping...\n",
      "Journal 'Nature Communications' not recognized for paper 'Electrochemical camera chip for simultaneous imaging of multiple metabolites in biofilms' -  skipping...\n",
      "Journal 'Zenodo' not recognized for paper 'Superfreq' -  skipping...\n",
      "Journal 'Zenodo' not recognized for paper 'triangle.py v0.1.1' -  skipping...\n",
      "Journal 'Zenodo' not recognized for paper 'A citable release' -  skipping...\n",
      "Journal 'Proceedings of the National Academy of Science' not recognized for paper 'Redundant phenazine operons in Pseudomonas aeruginosa exhibit environment-dependent expression and differential roles in pathogenicity' -  skipping...\n",
      "Journal 'Science' not recognized for paper 'Redox-Active Antibiotics Control Gene Expression and Community Behavior in Divergent Bacteria' -  skipping...\n"
     ]
    }
   ],
   "source": [
    "papers = filter_papers(pubs)\n",
    "ref_pubs, unref_pubs = get_ref_unref(papers)"
   ]
  },
  {
   "cell_type": "code",
   "execution_count": 5,
   "metadata": {
    "ExecuteTime": {
     "end_time": "2021-04-20T17:27:38.428647Z",
     "start_time": "2021-04-20T17:27:38.425406Z"
    }
   },
   "outputs": [],
   "source": [
    "def get_hindex(pubs):\n",
    "    cites = [p[\"citations\"] for i, p in enumerate(pubs)]\n",
    "    hindex = sum(c >= i for i, c in enumerate(sorted(cites, reverse=True)))\n",
    "    return hindex"
   ]
  },
  {
   "cell_type": "code",
   "execution_count": 6,
   "metadata": {
    "ExecuteTime": {
     "end_time": "2021-04-20T17:27:39.394527Z",
     "start_time": "2021-04-20T17:27:39.352246Z"
    }
   },
   "outputs": [
    {
     "name": "stdout",
     "output_type": "stream",
     "text": [
      "01 - (4220) Astropy Collaboration - Astropy: A community Python package for astronomy\n",
      "02 - (1716) Astropy Collaboration - The Astropy Project: Building an Open-science Proj\n",
      "03 - (1493) Eisenstein, Daniel J. - SDSS-III: Massive Spectroscopic Surveys of the Dis\n",
      "04 - (1485) Alam, Shadab - The Eleventh and Twelfth Data Releases of the Sloa\n",
      "05 - (1305) Dawson, Kyle S. - The Baryon Oscillation Spectroscopic Survey of SDS\n",
      "06 - (1207) Alam, Shadab - The clustering of galaxies in the completed SDSS-I\n",
      "07 - (1081) Aihara, Hiroaki - The Eighth Data Release of the Sloan Digital Sky S\n",
      "08 - (1059) Ahn, Christopher P. - The Ninth Data Release of the Sloan Digital Sky Su\n",
      "09 - (1049) Anderson, Lauren - The clustering of galaxies in the SDSS-III Baryon \n",
      "10 - (802) Ahn, Christopher P. - The Tenth Data Release of the Sloan Digital Sky Su\n",
      "11 - (679) Price-Whelan, Adrian M. - Binary Companions of Evolved Stars in APOGEE DR14:\n",
      "12 - (273) Blanton, Michael R. - Improved Background Subtraction for the Sloan Digi\n",
      "13 - (211) Ahumada, Romina - The 16th Data Release of the Sloan Digital Sky Sur\n",
      "14 - (108) Charisi, M. - A population of short-period variable quasars from\n",
      "15 - (97) Erkal, D. - The total mass of the Large Magellanic Cloud from \n",
      "16 - (88) Oh, Semyeong - Comoving Stars in Gaia DR1: An Abundance of Very W\n",
      "17 - (77) Goulding, Andy D. - Galaxy interactions trigger rapid black hole growt\n",
      "18 - (74) Price-Whelan, Adrian M. - A reinterpretation of the Triangulum-Andromeda ste\n",
      "19 - (72) Bonaca, Ana - The Spur and the Gap in GD-1: Dynamical Evidence f\n",
      "20 - (66) Price-Whelan, Adrian M. - Gala: A Python package for galactic dynamics\n",
      "21 - (56) Price-Whelan, Adrian M. - Off the Beaten Path: Gaia Reveals GD-1 Stars outsi\n",
      "22 - (52) Pearson, Sarah - Tidal Stream Morphology as an Indicator of Dark Ma\n",
      "23 - (51) Pearson, Sarah - Gaps and length asymmetry in the stellar stream Pa\n",
      "24 - (51) Aihara, Hiroaki - Erratum: \"The Eighth Data Release of the Sloan Dig\n",
      "25 - (46) Koposov, S. E. - Piercing the Milky Way: an all-sky view of the Orp\n",
      "26 - (44) Bergemann, Maria - Two chemically similar stellar overdensities on op\n",
      "27 - (43) Koppelman, Helmer H. - Multiple retrograde substructures in the Galactic \n",
      "28 - (41) Price-Whelan, Adrian M. - The Joker: A Custom Monte Carlo Sampler for Binary\n",
      "29 - (39) Sesar, Branimir - A Probabilistic Approach to Fitting Period-luminos\n",
      "30 - (38) Price-Whelan, Adrian M. - Inferring the Gravitational Potential of the Milky\n",
      "31 - (37) Price-Whelan, Adrian M. - Chaotic dispersal of tidal debris\n",
      "32 - (34) Oh, Semyeong - Kronos and Krios: Evidence for Accretion of a Mass\n",
      "33 - (29) Price-Whelan, Adrian M. - Close Binary Companions to APOGEE DR16 Stars: 20,0\n",
      "34 - (29) Li, Ting S. - Exploring Halo Substructure with Giant Stars. XV. \n",
      "35 - (28) Casey, Andrew R. - Tidal Interactions between Binary Stars Can Drive \n",
      "36 - (28) Price-Whelan, Adrian M. - Spending Too Much Time at the Galactic Bar: Chaoti\n",
      "37 - (28) Price-Whelan, Adrian M. - Spitzer, Gaia, and the Potential of the Milky Way\n",
      "38 - (27) Morris, Brett M. - astroplan: An Open Source Observation Planning Pac\n",
      "39 - (27) Sheffield, Allyson A. - A Disk Origin for the Monoceros Ring and A13 Stell\n",
      "40 - (24) Sesar, Branimir - The Nature and Orbit of the Ophiuchus Stream\n",
      "41 - (23) Hayes, Christian R. - Metallicity and α-Element Abundance Gradients alon\n",
      "42 - (23) De Rosa, G. - Velocity-resolved Reverberation Mapping of Five Br\n",
      "43 - (23) Kado-Fong, E. - Tidal Features at 0.05 &lt; z &lt; 0.45 in the Hyp\n",
      "44 - (20) Anderson, Lauren - Improving Gaia Parallax Precision with a Data-driv\n",
      "45 - (20) Charisi, M. - Multiple periods in the variability of the superma\n",
      "46 - (17) Bonaca, Ana - Multiple Components of the Jhelum Stellar Stream\n",
      "47 - (17) Andrews, Jeff J. - The Mass Distribution of Companions to Low-mass Wh\n",
      "48 - (16) Price-Whelan, Adrian M. - Kinematics of the Palomar 5 Stellar Stream from RR\n",
      "49 - (16) Price-Whelan, Adrian M. - Binary Companions of Evolved Stars in APOGEE DR14:\n",
      "50 - (14) Bonaca, Ana - High-resolution Spectroscopy of the GD-1 Stellar S\n",
      "51 - (14) Bonaca, Ana - Variations in the Width, Density, and Direction of\n",
      "52 - (14) Rasskazov, Alexander - Hypervelocity Stars from a Supermassive Black Hole\n",
      "53 - (14) Hayes, Christian R. - Disk-like Chemistry of the Triangulum-Andromeda Ov\n",
      "54 - (14) Greco, Johnny P. - Sumo Puff: Tidal debris or disturbed ultra-diffuse\n",
      "55 - (13) Angus, Ruth - Exploring the Evolution of Stellar Rotation Using \n",
      "56 - (13) Hendel, David - SMHASH: anatomy of the Orphan Stream using RR Lyra\n",
      "57 - (13) Price-Whelan, Adrian M. - schwimmbad: A uniform interface to parallel proces\n",
      "58 - (11) Price-Whelan, Adrian M. - Discovery of a Disrupting Open Cluster Far into th\n",
      "59 - (9) Chakrabarti, Sukanya - Antlia 2’s Role in Driving the Ripples in the Oute\n",
      "60 - (9) Price-Whelan, Adrian M. - Statistical Searches for Microlensing Events in La\n",
      "61 - (7) Mumford, Stuart - SunPy: A Python package for Solar Physics\n",
      "62 - (7) Sesar, Branimir - Evidence of Fanning in the Ophiuchus Stream\n",
      "63 - (6) Nidever, David L. - Spectroscopy of the Young Stellar Association Pric\n",
      "64 - (5) Pope, Benjamin J. S. - No Massive Companion to the Coherent Radio-emittin\n",
      "65 - (5) Johnston, Kathryn V. - Disk Heating, Galactoseismology, and the Formation\n",
      "66 - (4) Shipp, Nora - Discovery of Extended Tidal Tails around the Globu\n",
      "67 - (4) Price-Whelan, Adrian M. - What Bandwidth Do I Need for My Image?\n",
      "68 - (2) Valluri, Monica - Detecting the Figure Rotation of Dark Matter Halos\n",
      "69 - (2) Mazzola, Christine N. - The close binary fraction as a function of stellar\n",
      "70 - (2) Caldwell, Nelson - A Larger Extent for the Ophiuchus Stream\n",
      "71 - (1) Yavetz, Tomer D. - Separatrix divergence of stellar streams in galact\n",
      "72 - (0) Miller, Annaliese - Orbital and Stellar Parameters for 2M06464003+0109\n",
      "73 - (0) Price-Whelan, Adrian M. - Orbital Torus Imaging: Using Element Abundances to\n"
     ]
    }
   ],
   "source": [
    "iter_ = sorted([p for i, p in enumerate(ref_pubs)], \n",
    "               reverse=True, key=lambda x: x['citations'])\n",
    "for i, x in enumerate(iter_):\n",
    "    print('{:02d} - ({}) {} - {}'.format(i+1, x['citations'], \n",
    "                                         x['authors'][0], x['title'][:50]))"
   ]
  },
  {
   "cell_type": "code",
   "execution_count": 7,
   "metadata": {
    "ExecuteTime": {
     "end_time": "2021-04-20T17:29:02.270501Z",
     "start_time": "2021-04-20T17:29:02.266103Z"
    }
   },
   "outputs": [
    {
     "data": {
      "text/plain": [
       "32"
      ]
     },
     "execution_count": 7,
     "metadata": {},
     "output_type": "execute_result"
    }
   ],
   "source": [
    "get_hindex(ref_pubs)"
   ]
  },
  {
   "cell_type": "code",
   "execution_count": 8,
   "metadata": {
    "ExecuteTime": {
     "end_time": "2021-04-20T17:29:03.207071Z",
     "start_time": "2021-04-20T17:29:03.062020Z"
    }
   },
   "outputs": [],
   "source": [
    "bump = []\n",
    "bump2 = []\n",
    "for i in range(len(ref_pubs)):\n",
    "    tmp = copy.deepcopy(ref_pubs)\n",
    "    old_h = get_hindex(ref_pubs)\n",
    "    for j in range(4):\n",
    "        tmp[i]['citations'] += 1 \n",
    "        if get_hindex(tmp) > old_h:\n",
    "            bump.append((i, j+1))\n",
    "            break\n",
    "    \n",
    "#     for k in range(len(ref_pubs)):\n",
    "#         if i == k:\n",
    "#             continue\n",
    "            \n",
    "#         tmp = copy.deepcopy(ref_pubs)\n",
    "#         tmp[i]['citations'] += 1 \n",
    "#         old_h2 = get_hindex(tmp)\n",
    "#         for j in range(2):\n",
    "#             tmp[k]['citations'] += 1 \n",
    "#             if get_hindex(tmp) > old_h2:\n",
    "#                 bump2.append((i, j+1, k))\n",
    "#                 break"
   ]
  },
  {
   "cell_type": "code",
   "execution_count": 9,
   "metadata": {
    "ExecuteTime": {
     "end_time": "2021-04-20T17:29:03.789100Z",
     "start_time": "2021-04-20T17:29:03.785730Z"
    }
   },
   "outputs": [
    {
     "name": "stdout",
     "output_type": "stream",
     "text": [
      "Your h-index will increase +1 if 'Close Binary Companions to APOGEE DR16 S...' gets 3 more citations.\n",
      "Your h-index will increase +1 if 'Exploring Halo Substructure with Giant S...' gets 3 more citations.\n",
      "Your h-index will increase +1 if 'Tidal Interactions between Binary Stars ...' gets 4 more citations.\n",
      "Your h-index will increase +1 if 'Spending Too Much Time at the Galactic B...' gets 4 more citations.\n",
      "Your h-index will increase +1 if 'Spitzer, Gaia, and the Potential of the ...' gets 4 more citations.\n"
     ]
    }
   ],
   "source": [
    "for i, j in sorted(bump, key=lambda x: x[1]):\n",
    "    print(\"Your h-index will increase +1 if '{}...' gets {} more citations.\"\n",
    "          .format(ref_pubs[i]['title'][:40], j))"
   ]
  },
  {
   "cell_type": "code",
   "execution_count": null,
   "metadata": {},
   "outputs": [],
   "source": []
  }
 ],
 "metadata": {
  "kernelspec": {
   "display_name": "Python [conda env:root] *",
   "language": "python",
   "name": "conda-root-py"
  },
  "language_info": {
   "codemirror_mode": {
    "name": "ipython",
    "version": 3
   },
   "file_extension": ".py",
   "mimetype": "text/x-python",
   "name": "python",
   "nbconvert_exporter": "python",
   "pygments_lexer": "ipython3",
   "version": "3.8.3"
  },
  "toc": {
   "base_numbering": 1,
   "nav_menu": {},
   "number_sections": true,
   "sideBar": true,
   "skip_h1_title": false,
   "title_cell": "Table of Contents",
   "title_sidebar": "Contents",
   "toc_cell": false,
   "toc_position": {},
   "toc_section_display": true,
   "toc_window_display": false
  }
 },
 "nbformat": 4,
 "nbformat_minor": 2
}
