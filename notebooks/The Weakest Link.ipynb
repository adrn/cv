{
 "cells": [
  {
   "cell_type": "code",
   "execution_count": 1,
   "metadata": {
    "ExecuteTime": {
     "end_time": "2021-07-24T15:04:41.874576Z",
     "start_time": "2021-07-24T15:04:40.710768Z"
    }
   },
   "outputs": [],
   "source": [
    "import copy\n",
    "import json\n",
    "\n",
    "import astropy.coordinates as coord\n",
    "import astropy.table as at\n",
    "import astropy.units as u\n",
    "import matplotlib as mpl\n",
    "import matplotlib.pyplot as plt\n",
    "%matplotlib inline\n",
    "import numpy as np\n",
    "\n",
    "import os\n",
    "import sys\n",
    "sys.path.append(os.path.abspath('..'))"
   ]
  },
  {
   "cell_type": "code",
   "execution_count": 2,
   "metadata": {
    "ExecuteTime": {
     "end_time": "2021-07-24T15:04:41.885414Z",
     "start_time": "2021-07-24T15:04:41.880657Z"
    }
   },
   "outputs": [],
   "source": [
    "from pubs2tex import filter_papers, get_ref_unref"
   ]
  },
  {
   "cell_type": "code",
   "execution_count": 3,
   "metadata": {
    "ExecuteTime": {
     "end_time": "2021-07-24T15:04:41.893126Z",
     "start_time": "2021-07-24T15:04:41.887380Z"
    }
   },
   "outputs": [],
   "source": [
    "with open('../pubs.json', 'r') as f:\n",
    "    pubs = json.loads(f.read())"
   ]
  },
  {
   "cell_type": "code",
   "execution_count": 4,
   "metadata": {
    "ExecuteTime": {
     "end_time": "2021-07-24T15:04:41.940565Z",
     "start_time": "2021-07-24T15:04:41.895341Z"
    }
   },
   "outputs": [
    {
     "name": "stdout",
     "output_type": "stream",
     "text": [
      "Journal 'Zenodo' not recognized for paper 'SunPy' -  skipping...\n",
      "Journal 'Zenodo' not recognized for paper 'adrn/pyia:' -  skipping...\n",
      "Journal 'Zenodo' not recognized for paper 'exoplanet: Gradient-based probabilistic inference for exoplanet data & other astronomical time series' -  skipping...\n",
      "Journal 'Zenodo' not recognized for paper 'dfm/corner.py: corner.py v.2.2.1' -  skipping...\n",
      "Journal 'Zenodo' not recognized for paper 'astropy/ccdproc: 2.1.0 (re-relase for Zenodo)' -  skipping...\n",
      "Journal 'Zenodo' not recognized for paper 'SunPy' -  skipping...\n",
      "Journal 'Zenodo' not recognized for paper 'waqasbhatti/astrobase: astrobase v0.5.3' -  skipping...\n",
      "Journal 'Zenodo' not recognized for paper 'adrn/gala: v1.3' -  skipping...\n",
      "Journal 'Zenodo' not recognized for paper 'SunPy' -  skipping...\n",
      "Journal 'Zenodo' not recognized for paper 'dfm/corner.py: corner.py v2.1.0.rc1' -  skipping...\n",
      "Journal 'Zenodo' not recognized for paper 'davidwhogg/GaussianProductRefactor: v1' -  skipping...\n",
      "Journal 'Zenodo' not recognized for paper 'exoplanet-dev/exoplanet: exoplanet v0.3.2' -  skipping...\n",
      "Journal 'Zenodo' not recognized for paper 'SunPy' -  skipping...\n",
      "Journal 'Zenodo' not recognized for paper 'sphinx-gallery/sphinx-gallery: Release v0.6.1' -  skipping...\n",
      "Journal 'Zenodo' not recognized for paper 'waqasbhatti/astrobase: astrobase v0.5.0' -  skipping...\n",
      "Journal 'Zenodo' not recognized for paper 'adrn/gala: v1.1' -  skipping...\n",
      "Journal 'Zenodo' not recognized for paper 'adrn/hq: The version used to run on APOGEE DR16' -  skipping...\n",
      "Journal 'Zenodo' not recognized for paper 'adrn/thejoker v1.0' -  skipping...\n",
      "Journal 'Zenodo' not recognized for paper 'adrn/makecite v0.5' -  skipping...\n",
      "Journal 'Bulletin of the American Astronomical Society' not recognized for paper 'SDSS-V Pioneering Panoptic Spectroscopy' -  skipping...\n",
      "Journal 'Bulletin of the American Astronomical Society' not recognized for paper 'The Growing Importance of a Tech Savvy Astronomy and Astrophysics Workforce' -  skipping...\n",
      "Journal 'Bulletin of the American Astronomical Society' not recognized for paper 'Sustaining Community-Driven Software for Astronomy in the 2020s' -  skipping...\n",
      "Journal 'A Synoptic View of the Magellanic Clouds: VMC, Gaia and Beyond' not recognized for paper 'A disrupting open cluster far into the Milky Way halo: star formation in the Magellanic stream?' -  skipping...\n",
      "Journal 'Bulletin of the American Astronomical Society' not recognized for paper 'A Need for Dedicated Outreach Expertise and Online Programming' -  skipping...\n",
      "Journal 'Bulletin of the American Astronomical Society' not recognized for paper 'Elevating the Role of Software as a Product of the Research Enterprise' -  skipping...\n",
      "Journal 'HST Proposal' not recognized for paper 'Cold Dark Matter and the GD-1 Stellar Stream' -  skipping...\n",
      "Journal 'HST Proposal' not recognized for paper 'Cold Dark Matter and the GD-1 Stellar Stream' -  skipping...\n",
      "Journal 'Bulletin of the American Astronomical Society' not recognized for paper 'Far Reaching Science with Resolved Stellar Populations in the 2020s' -  skipping...\n",
      "Journal 'Bulletin of the American Astronomical Society' not recognized for paper 'Stellar multiplicity: an interdisciplinary nexus' -  skipping...\n",
      "Journal 'Bulletin of the American Astronomical Society' not recognized for paper 'The Multidimensional Milky Way' -  skipping...\n",
      "Journal 'Bulletin of the American Astronomical Society' not recognized for paper 'In Pursuit of Galactic Archaeology' -  skipping...\n",
      "Journal 'Bulletin of the American Astronomical Society' not recognized for paper 'Dark Matter Physics with Wide Field Spectroscopic Surveys' -  skipping...\n",
      "Journal 'Zenodo' not recognized for paper 'adrn/gala: v1.0' -  skipping...\n",
      "Journal 'Kavli Institute for Theoretical Physics Conference: In the Balance: Stasis and Disequilibrium in the Milky Way' not recognized for paper 'A detailed look at the GD-1 stellar stream: density and stellar population' -  skipping...\n",
      "Journal 'Nature Communications' not recognized for paper 'Phenazine production promotes antibiotic tolerance and metabolic heterogeneity in Pseudomonas aeruginosa biofilms' -  skipping...\n",
      "Journal 'Zenodo' not recognized for paper 'Waqasbhatti/Astrobase: Astrobase V0.3.20' -  skipping...\n",
      "Journal 'Zenodo' not recognized for paper 'Dfm/Emcee: Emcee V3.0Rc2' -  skipping...\n",
      "Journal 'Zenodo' not recognized for paper 'Adrn/Makecite: V0.1' -  skipping...\n",
      "Journal 'Zenodo' not recognized for paper 'Adrn/Makecite: V0.2' -  skipping...\n",
      "Journal 'Zenodo' not recognized for paper 'Dfm/Emcee: Emcee V3.0Rc1' -  skipping...\n",
      "Journal 'Zenodo' not recognized for paper 'Waqasbhatti/Astrobase: Astrobase V0.3.14' -  skipping...\n",
      "Journal 'Zenodo' not recognized for paper 'Adrn/Gala: V0.3' -  skipping...\n",
      "Journal 'Zenodo' not recognized for paper 'Adrn/Pyia: V0.2' -  skipping...\n",
      "Journal 'Zenodo' not recognized for paper 'Astropy/Astropy-V2.0-Paper: Final Draft' -  skipping...\n",
      "Journal 'Zenodo' not recognized for paper 'Astropy/Ccdproc: V1.3.0.Post1' -  skipping...\n",
      "Journal 'Zenodo' not recognized for paper 'Astropy/Astroplan: Astroplan V0.4' -  skipping...\n",
      "Journal 'Zenodo' not recognized for paper 'Adrn/Gala: V0.2.2' -  skipping...\n",
      "Journal 'Zenodo' not recognized for paper 'Adrn/Gala: V0.2.1' -  skipping...\n",
      "Journal 'Zenodo' not recognized for paper 'Smoh/Gaia-Comoving-Stars: Co-Moving Stars In Gaia Dr1' -  skipping...\n",
      "Journal 'Zenodo' not recognized for paper 'Adrn/Gala: V0.1.3' -  skipping...\n",
      "Journal 'Zenodo' not recognized for paper 'adrn/thejoker: Release v0.1' -  skipping...\n",
      "Journal 'Zenodo' not recognized for paper 'corner.py: corner.py v2.0.0' -  skipping...\n",
      "Journal 'Python in Astronomy 2016' not recognized for paper 'Python in Astronomy 2016 Unproceedings' -  skipping...\n",
      "Journal 'Zenodo' not recognized for paper 'Corner.Py: Corner.Py V1.0.2' -  skipping...\n",
      "Journal 'Nature Communications' not recognized for paper 'Electrochemical camera chip for simultaneous imaging of multiple metabolites in biofilms' -  skipping...\n",
      "Journal 'Applied Environmental Microbiology' not recognized for paper 'Facultative Control of Matrix Production Optimizes Competitive Fitness in Pseudomonas aeruginosa PA14 Biofilm Models' -  skipping...\n",
      "Journal 'Zenodo' not recognized for paper 'Superfreq' -  skipping...\n",
      "Journal 'Zenodo' not recognized for paper 'triangle.py v0.1.1' -  skipping...\n",
      "Journal 'Zenodo' not recognized for paper 'A citable release' -  skipping...\n",
      "Journal 'Proceedings of the National Academy of Science' not recognized for paper 'Redundant phenazine operons in Pseudomonas aeruginosa exhibit environment-dependent expression and differential roles in pathogenicity' -  skipping...\n",
      "Journal 'Science' not recognized for paper 'Redox-Active Antibiotics Control Gene Expression and Community Behavior in Divergent Bacteria' -  skipping...\n"
     ]
    }
   ],
   "source": [
    "papers = filter_papers(pubs)\n",
    "ref_pubs, unref_pubs = get_ref_unref(papers)"
   ]
  },
  {
   "cell_type": "code",
   "execution_count": 5,
   "metadata": {
    "ExecuteTime": {
     "end_time": "2021-07-24T15:04:42.080763Z",
     "start_time": "2021-07-24T15:04:42.077555Z"
    }
   },
   "outputs": [],
   "source": [
    "def get_hindex(pubs):\n",
    "    cites = [p[\"citations\"] for i, p in enumerate(pubs)]\n",
    "    hindex = sum(c >= i for i, c in enumerate(sorted(cites, reverse=True)))\n",
    "    return hindex"
   ]
  },
  {
   "cell_type": "code",
   "execution_count": 6,
   "metadata": {
    "ExecuteTime": {
     "end_time": "2021-07-24T15:04:42.582089Z",
     "start_time": "2021-07-24T15:04:42.575284Z"
    }
   },
   "outputs": [
    {
     "name": "stdout",
     "output_type": "stream",
     "text": [
      "01 - (4620) Astropy Collaboration - Astropy: A community Python package for astronomy\n",
      "02 - (1999) Astropy Collaboration - The Astropy Project: Building an Open-science Proj\n",
      "03 - (1547) Alam, Shadab - The Eleventh and Twelfth Data Releases of the Sloa\n",
      "04 - (1527) Eisenstein, Daniel J. - SDSS-III: Massive Spectroscopic Surveys of the Dis\n",
      "05 - (1341) Dawson, Kyle S. - The Baryon Oscillation Spectroscopic Survey of SDS\n",
      "06 - (1302) Alam, Shadab - The clustering of galaxies in the completed SDSS-I\n",
      "07 - (1096) Aihara, Hiroaki - The Eighth Data Release of the Sloan Digital Sky S\n",
      "08 - (1083) Anderson, Lauren - The clustering of galaxies in the SDSS-III Baryon \n",
      "09 - (1079) Ahn, Christopher P. - The Ninth Data Release of the Sloan Digital Sky Su\n",
      "10 - (816) Ahn, Christopher P. - The Tenth Data Release of the Sloan Digital Sky Su\n",
      "11 - (772) Price-Whelan, Adrian M. - Binary Companions of Evolved Stars in APOGEE DR14:\n",
      "12 - (288) Ahumada, Romina - The 16th Data Release of the Sloan Digital Sky Sur\n",
      "13 - (281) Blanton, Michael R. - Improved Background Subtraction for the Sloan Digi\n",
      "14 - (114) Charisi, M. - A population of short-period variable quasars from\n",
      "15 - (109) Erkal, D. - The total mass of the Large Magellanic Cloud from \n",
      "16 - (96) Oh, Semyeong - Comoving Stars in Gaia DR1: An Abundance of Very W\n",
      "17 - (82) Goulding, Andy D. - Galaxy interactions trigger rapid black hole growt\n",
      "18 - (81) Bonaca, Ana - The Spur and the Gap in GD-1: Dynamical Evidence f\n",
      "19 - (78) Price-Whelan, Adrian M. - Gala: A Python package for galactic dynamics\n",
      "20 - (77) Price-Whelan, Adrian M. - A reinterpretation of the Triangulum-Andromeda ste\n",
      "21 - (63) Price-Whelan, Adrian M. - Off the Beaten Path: Gaia Reveals GD-1 Stars outsi\n",
      "22 - (58) Pearson, Sarah - Gaps and length asymmetry in the stellar stream Pa\n",
      "23 - (55) Koppelman, Helmer H. - Multiple retrograde substructures in the Galactic \n",
      "24 - (54) Pearson, Sarah - Tidal Stream Morphology as an Indicator of Dark Ma\n",
      "25 - (51) Aihara, Hiroaki - Erratum: \"The Eighth Data Release of the Sloan Dig\n",
      "26 - (50) Koposov, S. E. - Piercing the Milky Way: an all-sky view of the Orp\n",
      "27 - (48) Price-Whelan, Adrian M. - The Joker: A Custom Monte Carlo Sampler for Binary\n",
      "28 - (47) Bergemann, Maria - Two chemically similar stellar overdensities on op\n",
      "29 - (41) Price-Whelan, Adrian M. - Chaotic dispersal of tidal debris\n",
      "30 - (40) Price-Whelan, Adrian M. - Inferring the Gravitational Potential of the Milky\n",
      "31 - (39) Sesar, Branimir - A Probabilistic Approach to Fitting Period-luminos\n",
      "32 - (36) Oh, Semyeong - Kronos and Krios: Evidence for Accretion of a Mass\n",
      "33 - (34) Price-Whelan, Adrian M. - Close Binary Companions to APOGEE DR16 Stars: 20,0\n",
      "34 - (34) Casey, Andrew R. - Tidal Interactions between Binary Stars Can Drive \n",
      "35 - (30) Sheffield, Allyson A. - A Disk Origin for the Monoceros Ring and A13 Stell\n",
      "36 - (30) Li, Ting S. - Exploring Halo Substructure with Giant Stars. XV. \n",
      "37 - (29) Price-Whelan, Adrian M. - Spending Too Much Time at the Galactic Bar: Chaoti\n",
      "38 - (28) Price-Whelan, Adrian M. - Spitzer, Gaia, and the Potential of the Milky Way\n",
      "39 - (27) Hayes, Christian R. - Metallicity and α-Element Abundance Gradients alon\n",
      "40 - (27) De Rosa, G. - Velocity-resolved Reverberation Mapping of Five Br\n",
      "41 - (27) Morris, Brett M. - astroplan: An Open Source Observation Planning Pac\n",
      "42 - (26) Kado-Fong, E. - Tidal Features at 0.05 &lt; z &lt; 0.45 in the Hyp\n",
      "43 - (24) Sesar, Branimir - The Nature and Orbit of the Ophiuchus Stream\n",
      "44 - (22) Anderson, Lauren - Improving Gaia Parallax Precision with a Data-driv\n",
      "45 - (21) Bonaca, Ana - Multiple Components of the Jhelum Stellar Stream\n",
      "46 - (20) Bonaca, Ana - High-resolution Spectroscopy of the GD-1 Stellar S\n",
      "47 - (20) Charisi, M. - Multiple periods in the variability of the superma\n",
      "48 - (18) Andrews, Jeff J. - The Mass Distribution of Companions to Low-mass Wh\n",
      "49 - (17) Price-Whelan, Adrian M. - Kinematics of the Palomar 5 Stellar Stream from RR\n",
      "50 - (17) Price-Whelan, Adrian M. - Binary Companions of Evolved Stars in APOGEE DR14:\n",
      "51 - (16) Hayes, Christian R. - Disk-like Chemistry of the Triangulum-Andromeda Ov\n",
      "52 - (15) Bonaca, Ana - Variations in the Width, Density, and Direction of\n",
      "53 - (14) Angus, Ruth - Exploring the Evolution of Stellar Rotation Using \n",
      "54 - (14) Rasskazov, Alexander - Hypervelocity Stars from a Supermassive Black Hole\n",
      "55 - (14) Greco, Johnny P. - Sumo Puff: Tidal debris or disturbed ultra-diffuse\n",
      "56 - (13) Price-Whelan, Adrian M. - Discovery of a Disrupting Open Cluster Far into th\n",
      "57 - (13) Hendel, David - SMHASH: anatomy of the Orphan Stream using RR Lyra\n",
      "58 - (13) Price-Whelan, Adrian M. - schwimmbad: A uniform interface to parallel proces\n",
      "59 - (11) Putman, Mary E. - The Gas Content and Stripping of Local Group Dwarf\n",
      "60 - (11) Chakrabarti, Sukanya - Antlia 2’s Role in Driving the Ripples in the Oute\n",
      "61 - (10) Price-Whelan, Adrian M. - Statistical Searches for Microlensing Events in La\n",
      "62 - (8) Shipp, Nora - Discovery of Extended Tidal Tails around the Globu\n",
      "63 - (8) Mumford, Stuart - SunPy: A Python package for Solar Physics\n",
      "64 - (7) Nidever, David L. - Spectroscopy of the Young Stellar Association Pric\n",
      "65 - (7) Sesar, Branimir - Evidence of Fanning in the Ophiuchus Stream\n",
      "66 - (5) Pope, Benjamin J. S. - No Massive Companion to the Coherent Radio-emittin\n",
      "67 - (5) Johnston, Kathryn V. - Disk Heating, Galactoseismology, and the Formation\n",
      "68 - (4) Mazzola, Christine N. - The close binary fraction as a function of stellar\n",
      "69 - (4) Caldwell, Nelson - A Larger Extent for the Ophiuchus Stream\n",
      "70 - (4) Price-Whelan, Adrian M. - What Bandwidth Do I Need for My Image?\n",
      "71 - (3) Foreman-Mackey, Daniel - exoplanet: Gradient-based probabilistic inference \n",
      "72 - (3) Valluri, Monica - Detecting the Figure Rotation of Dark Matter Halos\n",
      "73 - (3) Yavetz, Tomer D. - Separatrix divergence of stellar streams in galact\n",
      "74 - (1) Price-Whelan, Adrian M. - Orbital Torus Imaging: Using Element Abundances to\n",
      "75 - (0) Hedges, Christina - TOI-2076 and TOI-1807: Two Young, Comoving Planeta\n",
      "76 - (0) Sheffield, Allyson A. - Chemodynamically Characterizing the Jhelum Stellar\n",
      "77 - (0) Miller, Annaliese - Orbital and Stellar Parameters for 2M06464003+0109\n"
     ]
    }
   ],
   "source": [
    "iter_ = sorted([p for i, p in enumerate(ref_pubs)], \n",
    "               reverse=True, key=lambda x: x['citations'])\n",
    "for i, x in enumerate(iter_):\n",
    "    print('{:02d} - ({}) {} - {}'.format(i+1, x['citations'], \n",
    "                                         x['authors'][0], x['title'][:50]))"
   ]
  },
  {
   "cell_type": "code",
   "execution_count": 7,
   "metadata": {
    "ExecuteTime": {
     "end_time": "2021-07-24T15:05:36.785626Z",
     "start_time": "2021-07-24T15:05:36.780809Z"
    }
   },
   "outputs": [
    {
     "data": {
      "text/plain": [
       "34"
      ]
     },
     "execution_count": 7,
     "metadata": {},
     "output_type": "execute_result"
    }
   ],
   "source": [
    "get_hindex(ref_pubs)"
   ]
  },
  {
   "cell_type": "code",
   "execution_count": 8,
   "metadata": {
    "ExecuteTime": {
     "end_time": "2021-07-24T15:05:38.601226Z",
     "start_time": "2021-07-24T15:05:38.439234Z"
    }
   },
   "outputs": [],
   "source": [
    "bump = []\n",
    "bump2 = []\n",
    "for i in range(len(ref_pubs)):\n",
    "    tmp = copy.deepcopy(ref_pubs)\n",
    "    old_h = get_hindex(ref_pubs)\n",
    "    for j in range(4):\n",
    "        tmp[i]['citations'] += 1 \n",
    "        if get_hindex(tmp) > old_h:\n",
    "            bump.append((i, j+1))\n",
    "            break\n",
    "    \n",
    "#     for k in range(len(ref_pubs)):\n",
    "#         if i == k:\n",
    "#             continue\n",
    "            \n",
    "#         tmp = copy.deepcopy(ref_pubs)\n",
    "#         tmp[i]['citations'] += 1 \n",
    "#         old_h2 = get_hindex(tmp)\n",
    "#         for j in range(2):\n",
    "#             tmp[k]['citations'] += 1 \n",
    "#             if get_hindex(tmp) > old_h2:\n",
    "#                 bump2.append((i, j+1, k))\n",
    "#                 break"
   ]
  },
  {
   "cell_type": "code",
   "execution_count": 9,
   "metadata": {
    "ExecuteTime": {
     "end_time": "2021-07-24T15:05:39.669427Z",
     "start_time": "2021-07-24T15:05:39.665435Z"
    }
   },
   "outputs": [
    {
     "name": "stdout",
     "output_type": "stream",
     "text": [
      "Your h-index will increase +1 if 'A Disk Origin for the Monoceros Ring and...' gets 4 more citations.\n",
      "Your h-index will increase +1 if 'Exploring Halo Substructure with Giant S...' gets 4 more citations.\n"
     ]
    }
   ],
   "source": [
    "for i, j in sorted(bump, key=lambda x: x[1]):\n",
    "    print(\"Your h-index will increase +1 if '{}...' gets {} more citations.\"\n",
    "          .format(ref_pubs[i]['title'][:40], j))"
   ]
  },
  {
   "cell_type": "code",
   "execution_count": null,
   "metadata": {},
   "outputs": [],
   "source": []
  }
 ],
 "metadata": {
  "kernelspec": {
   "display_name": "Python [conda env:root] *",
   "language": "python",
   "name": "conda-root-py"
  },
  "language_info": {
   "codemirror_mode": {
    "name": "ipython",
    "version": 3
   },
   "file_extension": ".py",
   "mimetype": "text/x-python",
   "name": "python",
   "nbconvert_exporter": "python",
   "pygments_lexer": "ipython3",
   "version": "3.8.3"
  },
  "toc": {
   "base_numbering": 1,
   "nav_menu": {},
   "number_sections": true,
   "sideBar": true,
   "skip_h1_title": false,
   "title_cell": "Table of Contents",
   "title_sidebar": "Contents",
   "toc_cell": false,
   "toc_position": {},
   "toc_section_display": true,
   "toc_window_display": false
  }
 },
 "nbformat": 4,
 "nbformat_minor": 2
}
