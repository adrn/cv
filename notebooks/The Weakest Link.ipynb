{
 "cells": [
  {
   "cell_type": "code",
   "execution_count": 1,
   "metadata": {
    "ExecuteTime": {
     "end_time": "2020-10-07T20:20:47.184102Z",
     "start_time": "2020-10-07T20:20:45.700764Z"
    }
   },
   "outputs": [],
   "source": [
    "import copy\n",
    "import json\n",
    "\n",
    "import astropy.coordinates as coord\n",
    "import astropy.table as at\n",
    "import astropy.units as u\n",
    "import matplotlib as mpl\n",
    "import matplotlib.pyplot as plt\n",
    "%matplotlib inline\n",
    "import numpy as np\n",
    "\n",
    "import os\n",
    "import sys\n",
    "sys.path.append(os.path.abspath('..'))"
   ]
  },
  {
   "cell_type": "code",
   "execution_count": 2,
   "metadata": {
    "ExecuteTime": {
     "end_time": "2020-10-07T20:20:47.190678Z",
     "start_time": "2020-10-07T20:20:47.185576Z"
    }
   },
   "outputs": [],
   "source": [
    "from pubs2tex import filter_papers, get_ref_unref"
   ]
  },
  {
   "cell_type": "code",
   "execution_count": 3,
   "metadata": {
    "ExecuteTime": {
     "end_time": "2020-10-07T20:20:47.196989Z",
     "start_time": "2020-10-07T20:20:47.192791Z"
    }
   },
   "outputs": [],
   "source": [
    "with open('../pubs.json', 'r') as f:\n",
    "    pubs = json.loads(f.read())"
   ]
  },
  {
   "cell_type": "code",
   "execution_count": 4,
   "metadata": {
    "ExecuteTime": {
     "end_time": "2020-10-07T20:20:47.691312Z",
     "start_time": "2020-10-07T20:20:47.680761Z"
    }
   },
   "outputs": [
    {
     "name": "stdout",
     "output_type": "stream",
     "text": [
      "Journal 'Zenodo' not recognized for paper 'davidwhogg/GaussianProductRefactor: v1' -  skipping...\n",
      "Journal 'Zenodo' not recognized for paper 'sphinx-gallery/sphinx-gallery: Release v0.6.1' -  skipping...\n",
      "Journal 'Zenodo' not recognized for paper 'waqasbhatti/astrobase: astrobase v0.5.0' -  skipping...\n",
      "Journal 'Zenodo' not recognized for paper 'adrn/gala: v1.1' -  skipping...\n",
      "Journal 'Zenodo' not recognized for paper 'adrn/hq: The version used to run on APOGEE DR16' -  skipping...\n",
      "Journal 'Zenodo' not recognized for paper 'adrn/thejoker v1.0' -  skipping...\n",
      "Journal 'Zenodo' not recognized for paper 'adrn/makecite v0.5' -  skipping...\n",
      "Journal 'Bulletin of the American Astronomical Society' not recognized for paper 'SDSS-V Pioneering Panoptic Spectroscopy' -  skipping...\n",
      "Journal 'Bulletin of the American Astronomical Society' not recognized for paper 'The Growing Importance of a Tech Savvy Astronomy and Astrophysics Workforce' -  skipping...\n",
      "Journal 'Bulletin of the American Astronomical Society' not recognized for paper 'Sustaining Community-Driven Software for Astronomy in the 2020s' -  skipping...\n",
      "Journal 'A Synoptic View of the Magellanic Clouds: VMC, Gaia and Beyond' not recognized for paper 'A disrupting open cluster far into the Milky Way halo: star formation in the Magellanic stream?' -  skipping...\n",
      "Journal 'Bulletin of the American Astronomical Society' not recognized for paper 'A Need for Dedicated Outreach Expertise and Online Programming' -  skipping...\n",
      "Journal 'Bulletin of the American Astronomical Society' not recognized for paper 'Elevating the Role of Software as a Product of the Research Enterprise' -  skipping...\n",
      "Journal 'HST Proposal' not recognized for paper 'Cold Dark Matter and the GD-1 Stellar Stream' -  skipping...\n",
      "Journal 'HST Proposal' not recognized for paper 'Cold Dark Matter and the GD-1 Stellar Stream' -  skipping...\n",
      "Journal 'Bulletin of the American Astronomical Society' not recognized for paper 'Far Reaching Science with Resolved Stellar Populations in the 2020s' -  skipping...\n",
      "Journal 'Bulletin of the American Astronomical Society' not recognized for paper 'Stellar multiplicity: an interdisciplinary nexus' -  skipping...\n",
      "Journal 'Bulletin of the American Astronomical Society' not recognized for paper 'The Multidimensional Milky Way' -  skipping...\n",
      "Journal 'Bulletin of the American Astronomical Society' not recognized for paper 'In Pursuit of Galactic Archaeology' -  skipping...\n",
      "Journal 'Bulletin of the American Astronomical Society' not recognized for paper 'Dark Matter Physics with Wide Field Spectroscopic Surveys' -  skipping...\n",
      "Journal 'Zenodo' not recognized for paper 'adrn/gala: v1.0' -  skipping...\n",
      "Journal 'Nature Communications' not recognized for paper 'Phenazine production promotes antibiotic tolerance and metabolic heterogeneity in Pseudomonas aeruginosa biofilms' -  skipping...\n",
      "Journal 'Zenodo' not recognized for paper 'Waqasbhatti/Astrobase: Astrobase V0.3.20' -  skipping...\n",
      "Journal 'Zenodo' not recognized for paper 'Dfm/Emcee: Emcee V3.0Rc2' -  skipping...\n",
      "Journal 'Zenodo' not recognized for paper 'Adrn/Makecite: V0.2' -  skipping...\n",
      "Journal 'Zenodo' not recognized for paper 'Adrn/Pyia: V0.3' -  skipping...\n",
      "Journal 'Zenodo' not recognized for paper 'Waqasbhatti/Astrobase: Astrobase V0.3.14' -  skipping...\n",
      "Journal 'Zenodo' not recognized for paper 'Adrn/Pyia: V0.2' -  skipping...\n",
      "Journal 'Zenodo' not recognized for paper 'Astropy/Ccdproc: V1.3.0.Post1' -  skipping...\n",
      "Journal 'Zenodo' not recognized for paper 'Adrn/Gala: V0.2.2' -  skipping...\n",
      "Journal 'Zenodo' not recognized for paper 'Smoh/Gaia-Comoving-Stars: Co-Moving Stars In Gaia Dr1' -  skipping...\n",
      "Journal 'Zenodo' not recognized for paper 'corner.py: corner.py v2.0.0' -  skipping...\n",
      "Journal 'Zenodo' not recognized for paper 'corner.py: corner.py v2.0.0' -  skipping...\n",
      "Journal 'Python in Astronomy 2016' not recognized for paper 'Python in Astronomy 2016 Unproceedings' -  skipping...\n",
      "Journal 'Zenodo' not recognized for paper 'Corner.Py: Corner.Py V1.0.2' -  skipping...\n",
      "Journal 'Nature Communications' not recognized for paper 'Electrochemical camera chip for simultaneous imaging of multiple metabolites in biofilms' -  skipping...\n",
      "Journal 'Zenodo' not recognized for paper 'Superfreq' -  skipping...\n",
      "Journal 'Zenodo' not recognized for paper 'triangle.py v0.1.1' -  skipping...\n",
      "Journal 'Zenodo' not recognized for paper 'A citable release' -  skipping...\n",
      "Journal 'Proceedings of the National Academy of Science' not recognized for paper 'Redundant phenazine operons in Pseudomonas aeruginosa exhibit environment-dependent expression and differential roles in pathogenicity' -  skipping...\n",
      "Journal 'Science' not recognized for paper 'Redox-Active Antibiotics Control Gene Expression and Community Behavior in Divergent Bacteria' -  skipping...\n"
     ]
    }
   ],
   "source": [
    "papers = filter_papers(pubs)\n",
    "ref_pubs, unref_pubs = get_ref_unref(papers)"
   ]
  },
  {
   "cell_type": "code",
   "execution_count": 5,
   "metadata": {
    "ExecuteTime": {
     "end_time": "2020-10-07T20:20:48.532822Z",
     "start_time": "2020-10-07T20:20:48.529204Z"
    }
   },
   "outputs": [],
   "source": [
    "def get_hindex(pubs):\n",
    "    cites = [p[\"citations\"] for i, p in enumerate(pubs)]\n",
    "    hindex = sum(c >= i for i, c in enumerate(sorted(cites, reverse=True)))\n",
    "    return hindex"
   ]
  },
  {
   "cell_type": "code",
   "execution_count": 6,
   "metadata": {
    "ExecuteTime": {
     "end_time": "2020-10-07T20:20:49.440367Z",
     "start_time": "2020-10-07T20:20:49.432906Z"
    }
   },
   "outputs": [
    {
     "name": "stdout",
     "output_type": "stream",
     "text": [
      "01 - (3449) Astropy Collaboration - Astropy: A community Python package for astronomy\n",
      "02 - (1428) Eisenstein, Daniel J. - SDSS-III: Massive Spectroscopic Surveys of the Dis\n",
      "03 - (1387) Alam, Shadab - The Eleventh and Twelfth Data Releases of the Sloa\n",
      "04 - (1252) Astropy Collaboration - The Astropy Project: Building an Open-science Proj\n",
      "05 - (1241) Dawson, Kyle S. - The Baryon Oscillation Spectroscopic Survey of SDS\n",
      "06 - (1052) Aihara, Hiroaki - The Eighth Data Release of the Sloan Digital Sky S\n",
      "07 - (1029) Ahn, Christopher P. - The Ninth Data Release of the Sloan Digital Sky Su\n",
      "08 - (1024) Alam, Shadab - The clustering of galaxies in the completed SDSS-I\n",
      "09 - (998) Anderson, Lauren - The clustering of galaxies in the SDSS-III Baryon \n",
      "10 - (781) Ahn, Christopher P. - The Tenth Data Release of the Sloan Digital Sky Su\n",
      "11 - (452) Price-Whelan, Adrian M. - Binary Companions of Evolved Stars in APOGEE DR14:\n",
      "12 - (250) Blanton, Michael R. - Improved Background Subtraction for the Sloan Digi\n",
      "13 - (100) Ahumada, Romina - The 16th Data Release of the Sloan Digital Sky Sur\n",
      "14 - (91) Charisi, M. - A population of short-period variable quasars from\n",
      "15 - (77) Erkal, D. - The total mass of the Large Magellanic Cloud from \n",
      "16 - (75) Oh, Semyeong - Comoving Stars in Gaia DR1: An Abundance of Very W\n",
      "17 - (69) Goulding, Andy D. - Galaxy interactions trigger rapid black hole growt\n",
      "18 - (62) Price-Whelan, Adrian M. - A reinterpretation of the Triangulum-Andromeda ste\n",
      "19 - (54) Bonaca, Ana - The Spur and the Gap in GD-1: Dynamical Evidence f\n",
      "20 - (54) Price-Whelan, Adrian M. - Off the Beaten Path: Gaia Reveals GD-1 Stars outsi\n",
      "21 - (50) Aihara, Hiroaki - Erratum: \"The Eighth Data Release of the Sloan Dig\n",
      "22 - (49) Price-Whelan, Adrian M. - Gala: A Python package for galactic dynamics\n",
      "23 - (48) Pearson, Sarah - Tidal Stream Morphology as an Indicator of Dark Ma\n",
      "24 - (47) Pearson, Sarah - Gaps and length asymmetry in the stellar stream Pa\n",
      "25 - (39) Koposov, S. E. - Piercing the Milky Way: an all-sky view of the Orp\n",
      "26 - (37) Price-Whelan, Adrian M. - Inferring the Gravitational Potential of the Milky\n",
      "27 - (35) Sesar, Branimir - A Probabilistic Approach to Fitting Period─luminos\n",
      "28 - (35) Price-Whelan, Adrian M. - The Joker: A Custom Monte Carlo Sampler for Binary\n",
      "29 - (34) Bergemann, Maria - Two chemically similar stellar overdensities on op\n",
      "30 - (34) Price-Whelan, Adrian M. - Chaotic dispersal of tidal debris\n",
      "31 - (33) Oh, Semyeong - Kronos and Krios: Evidence for Accretion of a Mass\n",
      "32 - (27) Price-Whelan, Adrian M. - Spending Too Much Time at the Galactic Bar: Chaoti\n",
      "33 - (27) Price-Whelan, Adrian M. - Spitzer, Gaia, and the Potential of the Milky Way\n",
      "34 - (23) Koppelman, Helmer H. - Multiple retrograde substructures in the Galactic \n",
      "35 - (23) Sesar, Branimir - The Nature and Orbit of the Ophiuchus Stream\n",
      "36 - (22) Li, Ting S. - Exploring Halo Substructure with Giant Stars. XV. \n",
      "37 - (21) Casey, Andrew R. - Tidal Interactions between Binary Stars Can Drive \n",
      "38 - (21) Morris, Brett M. - astroplan: An Open Source Observation Planning Pac\n",
      "39 - (20) Price-Whelan, Adrian M. - Close Binary Companions to APOGEE DR16 Stars: 20,0\n",
      "40 - (20) Kado-Fong, E. - Tidal Features at 0.05 &lt; z &lt; 0.45 in the Hyp\n",
      "41 - (20) Anderson, Lauren - Improving Gaia Parallax Precision with a Data-driv\n",
      "42 - (20) Charisi, M. - Multiple periods in the variability of the superma\n",
      "43 - (19) De Rosa, G. - Velocity-resolved Reverberation Mapping of Five Br\n",
      "44 - (18) Sheffield, Allyson A. - A Disk Origin for the Monoceros Ring and A13 Stell\n",
      "45 - (17) Andrews, Jeff J. - The Mass Distribution of Companions to Low-mass Wh\n",
      "46 - (14) Greco, Johnny P. - Sumo Puff: Tidal debris or disturbed ultra-diffuse\n",
      "47 - (13) Bonaca, Ana - Multiple Components of the Jhelum Stellar Stream\n",
      "48 - (13) Price-Whelan, Adrian M. - Binary Companions of Evolved Stars in APOGEE DR14:\n",
      "49 - (12) Price-Whelan, Adrian M. - Kinematics of the Palomar 5 Stellar Stream from RR\n",
      "50 - (12) Hendel, David - SMHASH: anatomy of the Orphan Stream using RR Lyra\n",
      "51 - (12) Price-Whelan, Adrian M. - schwimmbad: A uniform interface to parallel proces\n",
      "52 - (11) Hayes, Christian R. - Metallicity and α-Element Abundance Gradients alon\n",
      "53 - (11) Rasskazov, Alexander - Hypervelocity Stars from a Supermassive Black Hole\n",
      "54 - (10) Price-Whelan, Adrian M. - Discovery of a Disrupting Open Cluster Far into th\n",
      "55 - (10) Hayes, Christian R. - Disk-like Chemistry of the Triangulum-Andromeda Ov\n",
      "56 - (9) Price-Whelan, Adrian M. - Statistical Searches for Microlensing Events in La\n",
      "57 - (8) Bonaca, Ana - Variations in the Width, Density, and Direction of\n",
      "58 - (7) Sesar, Branimir - Evidence of Fanning in the Ophiuchus Stream\n",
      "59 - (6) Bonaca, Ana - High-resolution Spectroscopy of the GD-1 Stellar S\n",
      "60 - (6) Chakrabarti, Sukanya - Antlia 2’s Role in Driving the Ripples in the Oute\n",
      "61 - (5) Mumford, Stuart - SunPy: A Python package for Solar Physics\n",
      "62 - (5) Johnston, Kathryn V. - Disk Heating, Galactoseismology, and the Formation\n",
      "63 - (4) Price-Whelan, Adrian M. - What Bandwidth Do I Need for My Image?\n",
      "64 - (3) Nidever, David L. - Spectroscopy of the Young Stellar Association Pric\n",
      "65 - (2) Angus, Ruth - Exploring the Evolution of Stellar Rotation Using \n",
      "66 - (1) Caldwell, Nelson - A Larger Extent for the Ophiuchus Stream\n",
      "67 - (1) Pope, Benjamin J. S. - No Massive Companion to the Coherent Radio-emittin\n",
      "68 - (0) Mazzola, Christine N. - The Close Binary Fraction as a Function of Stellar\n"
     ]
    }
   ],
   "source": [
    "iter_ = sorted([p for i, p in enumerate(ref_pubs)], \n",
    "               reverse=True, key=lambda x: x['citations'])\n",
    "for i, x in enumerate(iter_):\n",
    "    print('{:02d} - ({}) {} - {}'.format(i+1, x['citations'], \n",
    "                                         x['authors'][0], x['title'][:50]))"
   ]
  },
  {
   "cell_type": "code",
   "execution_count": 7,
   "metadata": {
    "ExecuteTime": {
     "end_time": "2020-10-07T20:20:58.513949Z",
     "start_time": "2020-10-07T20:20:58.509273Z"
    }
   },
   "outputs": [
    {
     "data": {
      "text/plain": [
       "31"
      ]
     },
     "execution_count": 7,
     "metadata": {},
     "output_type": "execute_result"
    }
   ],
   "source": [
    "get_hindex(ref_pubs)"
   ]
  },
  {
   "cell_type": "code",
   "execution_count": 8,
   "metadata": {
    "ExecuteTime": {
     "end_time": "2020-10-07T20:20:59.357239Z",
     "start_time": "2020-10-07T20:20:59.224684Z"
    }
   },
   "outputs": [],
   "source": [
    "bump = []\n",
    "bump2 = []\n",
    "for i in range(len(ref_pubs)):\n",
    "    tmp = copy.deepcopy(ref_pubs)\n",
    "    old_h = get_hindex(ref_pubs)\n",
    "    for j in range(4):\n",
    "        tmp[i]['citations'] += 1 \n",
    "        if get_hindex(tmp) > old_h:\n",
    "            bump.append((i, j+1))\n",
    "            break\n",
    "    \n",
    "#     for k in range(len(ref_pubs)):\n",
    "#         if i == k:\n",
    "#             continue\n",
    "            \n",
    "#         tmp = copy.deepcopy(ref_pubs)\n",
    "#         tmp[i]['citations'] += 1 \n",
    "#         old_h2 = get_hindex(tmp)\n",
    "#         for j in range(2):\n",
    "#             tmp[k]['citations'] += 1 \n",
    "#             if get_hindex(tmp) > old_h2:\n",
    "#                 bump2.append((i, j+1, k))\n",
    "#                 break"
   ]
  },
  {
   "cell_type": "code",
   "execution_count": 9,
   "metadata": {
    "ExecuteTime": {
     "end_time": "2020-10-07T20:20:59.784442Z",
     "start_time": "2020-10-07T20:20:59.781254Z"
    }
   },
   "outputs": [
    {
     "name": "stdout",
     "output_type": "stream",
     "text": [
      "Your h-index will increase +1 if 'Spending Too Much Time at the Galactic B...' gets 4 more citations.\n",
      "Your h-index will increase +1 if 'Spitzer, Gaia, and the Potential of the ...' gets 4 more citations.\n"
     ]
    }
   ],
   "source": [
    "for i, j in sorted(bump, key=lambda x: x[1]):\n",
    "    print(\"Your h-index will increase +1 if '{}...' gets {} more citations.\"\n",
    "          .format(ref_pubs[i]['title'][:40], j))"
   ]
  },
  {
   "cell_type": "code",
   "execution_count": null,
   "metadata": {},
   "outputs": [],
   "source": []
  }
 ],
 "metadata": {
  "kernelspec": {
   "display_name": "Python [conda env:root] *",
   "language": "python",
   "name": "conda-root-py"
  },
  "language_info": {
   "codemirror_mode": {
    "name": "ipython",
    "version": 3
   },
   "file_extension": ".py",
   "mimetype": "text/x-python",
   "name": "python",
   "nbconvert_exporter": "python",
   "pygments_lexer": "ipython3",
   "version": "3.8.3"
  },
  "toc": {
   "base_numbering": 1,
   "nav_menu": {},
   "number_sections": true,
   "sideBar": true,
   "skip_h1_title": false,
   "title_cell": "Table of Contents",
   "title_sidebar": "Contents",
   "toc_cell": false,
   "toc_position": {},
   "toc_section_display": true,
   "toc_window_display": false
  }
 },
 "nbformat": 4,
 "nbformat_minor": 2
}
