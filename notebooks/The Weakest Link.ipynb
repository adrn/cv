{
 "cells": [
  {
   "cell_type": "code",
   "execution_count": 1,
   "metadata": {
    "ExecuteTime": {
     "end_time": "2021-12-24T18:03:42.630762Z",
     "start_time": "2021-12-24T18:03:41.722283Z"
    }
   },
   "outputs": [],
   "source": [
    "import copy\n",
    "import json\n",
    "\n",
    "import astropy.coordinates as coord\n",
    "import astropy.table as at\n",
    "import astropy.units as u\n",
    "import matplotlib as mpl\n",
    "import matplotlib.pyplot as plt\n",
    "%matplotlib inline\n",
    "import numpy as np\n",
    "\n",
    "import os\n",
    "import sys\n",
    "sys.path.append(os.path.abspath('..'))"
   ]
  },
  {
   "cell_type": "code",
   "execution_count": 2,
   "metadata": {
    "ExecuteTime": {
     "end_time": "2021-12-24T18:03:42.637460Z",
     "start_time": "2021-12-24T18:03:42.631999Z"
    }
   },
   "outputs": [],
   "source": [
    "from pubs2tex import filter_papers, get_ref_unref"
   ]
  },
  {
   "cell_type": "code",
   "execution_count": 3,
   "metadata": {
    "ExecuteTime": {
     "end_time": "2021-12-24T18:03:42.642647Z",
     "start_time": "2021-12-24T18:03:42.638873Z"
    }
   },
   "outputs": [],
   "source": [
    "with open('../pubs.json', 'r') as f:\n",
    "    pubs = json.loads(f.read())"
   ]
  },
  {
   "cell_type": "code",
   "execution_count": 4,
   "metadata": {
    "ExecuteTime": {
     "end_time": "2021-12-24T18:03:42.677201Z",
     "start_time": "2021-12-24T18:03:42.643995Z"
    }
   },
   "outputs": [
    {
     "name": "stdout",
     "output_type": "stream",
     "text": [
      "Journal 'Zenodo' not recognized for paper 'SunPy' -  skipping...\n",
      "Journal 'Zenodo' not recognized for paper 'adrn/gala:' -  skipping...\n",
      "Journal 'Zenodo' not recognized for paper 'adrn/pyia:' -  skipping...\n",
      "Journal 'Nature Communications' not recognized for paper 'Pseudomonas aeruginosa PA14 produces R-bodies, extendable protein polymers with roles in host colonization and virulence' -  skipping...\n",
      "Journal 'Posters from the TESS Science Conference II (TSC2)' not recognized for paper 'Determining the Detectability of a Planet Transiting a Star of Extragalactic Origin' -  skipping...\n",
      "Journal 'Zenodo' not recognized for paper 'exoplanet: Gradient-based probabilistic inference for exoplanet data & other astronomical time series' -  skipping...\n",
      "Journal 'Zenodo' not recognized for paper 'SunPy' -  skipping...\n",
      "Journal 'Zenodo' not recognized for paper 'exoplanet-dev/exoplanet: exoplanet v0.5.0' -  skipping...\n",
      "Journal 'Zenodo' not recognized for paper 'astropy/astropy: v4.2.1' -  skipping...\n",
      "Journal 'Zenodo' not recognized for paper 'dfm/corner.py: corner.py v.2.2.1' -  skipping...\n",
      "Journal 'Zenodo' not recognized for paper 'dfm/corner.py: corner.py v.2.2.1' -  skipping...\n",
      "Journal 'Zenodo' not recognized for paper 'astropy/ccdproc: 2.1.0 (re-relase for Zenodo)' -  skipping...\n",
      "Journal 'Zenodo' not recognized for paper 'SunPy' -  skipping...\n",
      "Journal 'Zenodo' not recognized for paper 'waqasbhatti/astrobase: astrobase v0.5.3' -  skipping...\n",
      "Journal 'Zenodo' not recognized for paper 'waqasbhatti/astrobase: astrobase v0.5.3' -  skipping...\n",
      "Journal 'Zenodo' not recognized for paper 'SunPy' -  skipping...\n",
      "Journal 'Zenodo' not recognized for paper 'adrn/pyia v1.2' -  skipping...\n",
      "Journal 'Zenodo' not recognized for paper 'adrn/gala: v1.3' -  skipping...\n",
      "Journal 'Zenodo' not recognized for paper 'SunPy' -  skipping...\n",
      "Journal 'Zenodo' not recognized for paper 'dfm/corner.py: corner.py v2.1.0.rc1' -  skipping...\n",
      "Journal 'Zenodo' not recognized for paper 'davidwhogg/GaussianProductRefactor: v1' -  skipping...\n",
      "Journal 'Zenodo' not recognized for paper 'exoplanet-dev/exoplanet: exoplanet v0.3.2' -  skipping...\n",
      "Journal 'Zenodo' not recognized for paper 'SunPy' -  skipping...\n",
      "Journal 'Zenodo' not recognized for paper 'sphinx-gallery/sphinx-gallery: Release v0.6.1' -  skipping...\n",
      "Journal 'Zenodo' not recognized for paper 'waqasbhatti/astrobase: astrobase v0.5.0' -  skipping...\n",
      "Journal 'Zenodo' not recognized for paper 'adrn/gala: v1.1' -  skipping...\n",
      "Journal 'Zenodo' not recognized for paper 'adrn/hq: The version used to run on APOGEE DR16' -  skipping...\n",
      "Journal 'Zenodo' not recognized for paper 'adrn/thejoker v1.0' -  skipping...\n",
      "Journal 'Zenodo' not recognized for paper 'adrn/makecite v0.5' -  skipping...\n",
      "Journal 'Bulletin of the American Astronomical Society' not recognized for paper 'SDSS-V Pioneering Panoptic Spectroscopy' -  skipping...\n",
      "Journal 'Bulletin of the American Astronomical Society' not recognized for paper 'The Growing Importance of a Tech Savvy Astronomy and Astrophysics Workforce' -  skipping...\n",
      "Journal 'Bulletin of the American Astronomical Society' not recognized for paper 'Sustaining Community-Driven Software for Astronomy in the 2020s' -  skipping...\n",
      "Journal 'A Synoptic View of the Magellanic Clouds: VMC, Gaia and Beyond' not recognized for paper 'A disrupting open cluster far into the Milky Way halo: star formation in the Magellanic stream?' -  skipping...\n",
      "Journal 'Bulletin of the American Astronomical Society' not recognized for paper 'A Need for Dedicated Outreach Expertise and Online Programming' -  skipping...\n",
      "Journal 'Bulletin of the American Astronomical Society' not recognized for paper 'Elevating the Role of Software as a Product of the Research Enterprise' -  skipping...\n",
      "Journal 'HST Proposal' not recognized for paper 'Cold Dark Matter and the GD-1 Stellar Stream' -  skipping...\n",
      "Journal 'HST Proposal' not recognized for paper 'Cold Dark Matter and the GD-1 Stellar Stream' -  skipping...\n",
      "Journal 'Bulletin of the American Astronomical Society' not recognized for paper 'Far Reaching Science with Resolved Stellar Populations in the 2020s' -  skipping...\n",
      "Journal 'Bulletin of the American Astronomical Society' not recognized for paper 'Stellar multiplicity: an interdisciplinary nexus' -  skipping...\n",
      "Journal 'Bulletin of the American Astronomical Society' not recognized for paper 'The Multidimensional Milky Way' -  skipping...\n",
      "Journal 'Bulletin of the American Astronomical Society' not recognized for paper 'In Pursuit of Galactic Archaeology' -  skipping...\n",
      "Journal 'Bulletin of the American Astronomical Society' not recognized for paper 'Dark Matter Physics with Wide Field Spectroscopic Surveys' -  skipping...\n",
      "Journal 'Zenodo' not recognized for paper 'adrn/gala: v1.0' -  skipping...\n",
      "Journal 'KITP Conference: In the Balance: Stasis and Disequilibrium in the Milky Way' not recognized for paper 'A detailed look at the GD-1 stellar stream: density and stellar population' -  skipping...\n",
      "Journal 'Nature Communications' not recognized for paper 'Phenazine production promotes antibiotic tolerance and metabolic heterogeneity in Pseudomonas aeruginosa biofilms' -  skipping...\n",
      "Journal 'Zenodo' not recognized for paper 'Waqasbhatti/Astrobase: Astrobase V0.3.20' -  skipping...\n",
      "Journal 'Zenodo' not recognized for paper 'Dfm/Emcee: Emcee V3.0Rc2' -  skipping...\n",
      "Journal 'Zenodo' not recognized for paper 'Adrn/Makecite: V0.1' -  skipping...\n",
      "Journal 'Zenodo' not recognized for paper 'Adrn/Makecite: V0.2' -  skipping...\n",
      "Journal 'Zenodo' not recognized for paper 'Dfm/Emcee: Emcee V3.0Rc1' -  skipping...\n",
      "Journal 'Zenodo' not recognized for paper 'Waqasbhatti/Astrobase: Astrobase V0.3.14' -  skipping...\n",
      "Journal 'Zenodo' not recognized for paper 'Adrn/Gala: V0.3' -  skipping...\n",
      "Journal 'Zenodo' not recognized for paper 'Adrn/Pyia: V0.2' -  skipping...\n",
      "Journal 'Zenodo' not recognized for paper 'Astropy/Astropy-V2.0-Paper: Final Draft' -  skipping...\n",
      "Journal 'Zenodo' not recognized for paper 'Astropy/Ccdproc: V1.3.0.Post1' -  skipping...\n",
      "Journal 'Zenodo' not recognized for paper 'Astropy/Astroplan: Astroplan V0.4' -  skipping...\n",
      "Journal 'Zenodo' not recognized for paper 'Adrn/Gala: V0.2.2' -  skipping...\n",
      "Journal 'Zenodo' not recognized for paper 'Adrn/Gala: V0.2.1' -  skipping...\n",
      "Journal 'Zenodo' not recognized for paper 'Smoh/Gaia-Comoving-Stars: Co-Moving Stars In Gaia Dr1' -  skipping...\n",
      "Journal 'Zenodo' not recognized for paper 'Adrn/Gala: V0.1.3' -  skipping...\n",
      "Journal 'Zenodo' not recognized for paper 'adrn/thejoker: Release v0.1' -  skipping...\n",
      "Journal 'Python in Astronomy 2016' not recognized for paper 'Python in Astronomy 2016 Unproceedings' -  skipping...\n",
      "Journal 'Zenodo' not recognized for paper 'Corner.Py: Corner.Py V1.0.2' -  skipping...\n",
      "Journal 'Nature Communications' not recognized for paper 'Electrochemical camera chip for simultaneous imaging of multiple metabolites in biofilms' -  skipping...\n",
      "Journal 'Applied and Environmental Microbiology' not recognized for paper 'Facultative Control of Matrix Production Optimizes Competitive Fitness in Pseudomonas aeruginosa PA14 Biofilm Models' -  skipping...\n",
      "Journal 'Zenodo' not recognized for paper 'triangle.py v0.1.1' -  skipping...\n",
      "Journal 'Proceedings of the National Academy of Science' not recognized for paper 'Redundant phenazine operons in Pseudomonas aeruginosa exhibit environment-dependent expression and differential roles in pathogenicity' -  skipping...\n",
      "Journal 'Science' not recognized for paper 'Redox-Active Antibiotics Control Gene Expression and Community Behavior in Divergent Bacteria' -  skipping...\n"
     ]
    }
   ],
   "source": [
    "papers = filter_papers(pubs)\n",
    "ref_pubs, unref_pubs = get_ref_unref(papers)"
   ]
  },
  {
   "cell_type": "code",
   "execution_count": 5,
   "metadata": {
    "ExecuteTime": {
     "end_time": "2021-12-24T18:03:43.110159Z",
     "start_time": "2021-12-24T18:03:43.104749Z"
    }
   },
   "outputs": [],
   "source": [
    "def get_hindex(pubs):\n",
    "    cites = [p[\"citations\"] for i, p in enumerate(pubs)]\n",
    "    hindex = sum(c >= i for i, c in enumerate(sorted(cites, reverse=True)))\n",
    "    return hindex"
   ]
  },
  {
   "cell_type": "code",
   "execution_count": 7,
   "metadata": {
    "ExecuteTime": {
     "end_time": "2021-12-24T18:03:48.777609Z",
     "start_time": "2021-12-24T18:03:48.761098Z"
    }
   },
   "outputs": [
    {
     "name": "stdout",
     "output_type": "stream",
     "text": [
      "01 - (5311) Astropy Collaboration - Astropy: A community Python package for astronomy\n",
      "02 - (2413) Astropy Collaboration - The Astropy Project: Building an Open-science Proj\n",
      "03 - (1641) Alam, Shadab - The Eleventh and Twelfth Data Releases of the Sloa\n",
      "04 - (1581) Eisenstein, Daniel J. - SDSS-III: Massive Spectroscopic Surveys of the Dis\n",
      "05 - (1463) Alam, Shadab - The clustering of galaxies in the completed SDSS-I\n",
      "06 - (1412) Dawson, Kyle S. - The Baryon Oscillation Spectroscopic Survey of SDS\n",
      "07 - (1119) Aihara, Hiroaki - The Eighth Data Release of the Sloan Digital Sky S\n",
      "08 - (1109) Anderson, Lauren - The clustering of galaxies in the SDSS-III Baryon \n",
      "09 - (1104) Ahn, Christopher P. - The Ninth Data Release of the Sloan Digital Sky Su\n",
      "10 - (1013) Price-Whelan, Adrian M. - Binary Companions of Evolved Stars in APOGEE DR14:\n",
      "11 - (841) Ahn, Christopher P. - The Tenth Data Release of the Sloan Digital Sky Su\n",
      "12 - (418) Ahumada, Romina - The 16th Data Release of the Sloan Digital Sky Sur\n",
      "13 - (307) Blanton, Michael R. - Improved Background Subtraction for the Sloan Digi\n",
      "14 - (134) Charisi, M. - A population of short-period variable quasars from\n",
      "15 - (130) Erkal, D. - The total mass of the Large Magellanic Cloud from \n",
      "16 - (105) Oh, Semyeong - Comoving Stars in Gaia DR1: An Abundance of Very W\n",
      "17 - (93) Bonaca, Ana - The Spur and the Gap in GD-1: Dynamical Evidence f\n",
      "18 - (92) Goulding, Andy D. - Galaxy interactions trigger rapid black hole growt\n",
      "19 - (89) Price-Whelan, Adrian M. - Gala: A Python package for galactic dynamics\n",
      "20 - (79) Price-Whelan, Adrian M. - A reinterpretation of the Triangulum-Andromeda ste\n",
      "21 - (74) Koppelman, Helmer H. - Multiple retrograde substructures in the Galactic \n",
      "22 - (71) Price-Whelan, Adrian M. - Off the Beaten Path: Gaia Reveals GD-1 Stars outsi\n",
      "23 - (63) Pearson, Sarah - Gaps and length asymmetry in the stellar stream Pa\n",
      "24 - (63) Price-Whelan, Adrian M. - The Joker: A Custom Monte Carlo Sampler for Binary\n",
      "25 - (61) Koposov, S. E. - Piercing the Milky Way: an all-sky view of the Orp\n",
      "26 - (57) Pearson, Sarah - Tidal Stream Morphology as an Indicator of Dark Ma\n",
      "27 - (53) Aihara, Hiroaki - Erratum: \"The Eighth Data Release of the Sloan Dig\n",
      "28 - (52) Bergemann, Maria - Two chemically similar stellar overdensities on op\n",
      "29 - (49) Price-Whelan, Adrian M. - Close Binary Companions to APOGEE DR16 Stars: 20,0\n",
      "30 - (45) Price-Whelan, Adrian M. - Chaotic dispersal of tidal debris\n",
      "31 - (44) Oh, Semyeong - Kronos and Krios: Evidence for Accretion of a Mass\n",
      "32 - (42) Casey, Andrew R. - Tidal Interactions between Binary Stars Can Drive \n",
      "33 - (42) Sesar, Branimir - A Probabilistic Approach to Fitting Period-luminos\n",
      "34 - (42) Price-Whelan, Adrian M. - Inferring the Gravitational Potential of the Milky\n",
      "35 - (33) De Rosa, G. - Velocity-resolved Reverberation Mapping of Five Br\n",
      "36 - (32) Price-Whelan, Adrian M. - Spending Too Much Time at the Galactic Bar: Chaoti\n",
      "37 - (31) Hayes, Christian R. - Metallicity and α-Element Abundance Gradients alon\n",
      "38 - (31) Li, Ting S. - Exploring Halo Substructure with Giant Stars. XV. \n",
      "39 - (30) Morris, Brett M. - astroplan: An Open Source Observation Planning Pac\n",
      "40 - (30) Sheffield, Allyson A. - A Disk Origin for the Monoceros Ring and A13 Stell\n",
      "41 - (28) Kado-Fong, E. - Tidal Features at 0.05 &lt; z &lt; 0.45 in the Hyp\n",
      "42 - (28) Price-Whelan, Adrian M. - Spitzer, Gaia, and the Potential of the Milky Way\n",
      "43 - (26) Bonaca, Ana - Multiple Components of the Jhelum Stellar Stream\n",
      "44 - (26) Sesar, Branimir - The Nature and Orbit of the Ophiuchus Stream\n",
      "45 - (25) Anderson, Lauren - Improving Gaia Parallax Precision with a Data-driv\n",
      "46 - (23) Bonaca, Ana - Variations in the Width, Density, and Direction of\n",
      "47 - (23) Charisi, M. - Multiple periods in the variability of the superma\n",
      "48 - (22) Bonaca, Ana - High-resolution Spectroscopy of the GD-1 Stellar S\n",
      "49 - (22) Price-Whelan, Adrian M. - Binary Companions of Evolved Stars in APOGEE DR14:\n",
      "50 - (19) Putman, Mary E. - The Gas Content and Stripping of Local Group Dwarf\n",
      "51 - (19) Hayes, Christian R. - Disk-like Chemistry of the Triangulum-Andromeda Ov\n",
      "52 - (18) Price-Whelan, Adrian M. - Discovery of a Disrupting Open Cluster Far into th\n",
      "53 - (18) Price-Whelan, Adrian M. - Kinematics of the Palomar 5 Stellar Stream from RR\n",
      "54 - (18) Andrews, Jeff J. - The Mass Distribution of Companions to Low-mass Wh\n",
      "55 - (17) Garavito-Camargo, Nicolás - Quantifying the Impact of the Large Magellanic Clo\n",
      "56 - (17) Angus, Ruth - Exploring the Evolution of Stellar Rotation Using \n",
      "57 - (16) Foreman-Mackey, Daniel - exoplanet: Gradient-based probabilistic inference \n",
      "58 - (15) Price-Whelan, Adrian M. - schwimmbad: A uniform interface to parallel proces\n",
      "59 - (14) Mazzola, Christine N. - The close binary fraction as a function of stellar\n",
      "60 - (14) Rasskazov, Alexander - Hypervelocity Stars from a Supermassive Black Hole\n",
      "61 - (14) Greco, Johnny P. - Sumo Puff: Tidal debris or disturbed ultra-diffuse\n",
      "62 - (13) Hendel, David - SMHASH: anatomy of the Orphan Stream using RR Lyra\n",
      "63 - (11) Shipp, Nora - Discovery of Extended Tidal Tails around the Globu\n",
      "64 - (10) Mumford, Stuart - SunPy: A Python package for Solar Physics\n",
      "65 - (10) Chakrabarti, Sukanya - Antlia 2’s Role in Driving the Ripples in the Oute\n",
      "66 - (10) Price-Whelan, Adrian M. - Statistical Searches for Microlensing Events in La\n",
      "67 - (9) Nidever, David L. - Spectroscopy of the Young Stellar Association Pric\n",
      "68 - (7) Santana, Felipe A. - Final Targeting Strategy for the SDSS-IV APOGEE-2S\n",
      "69 - (7) Pope, Benjamin J. S. - No Massive Companion to the Coherent Radio-emittin\n",
      "70 - (7) Sesar, Branimir - Evidence of Fanning in the Ophiuchus Stream\n",
      "71 - (6) Rix, Hans-Walter - Selection Functions in Astronomical Data Modeling,\n",
      "72 - (6) Johnston, Kathryn V. - Disk Heating, Galactoseismology, and the Formation\n",
      "73 - (5) Kounkel, Marina - Double-lined Spectroscopic Binaries in the APOGEE \n",
      "74 - (5) Price-Whelan, Adrian M. - Orbital Torus Imaging: Using Element Abundances to\n",
      "75 - (5) Yavetz, Tomer D. - Separatrix divergence of stellar streams in galact\n",
      "76 - (4) Valluri, Monica - Detecting the Figure Rotation of Dark Matter Halos\n",
      "77 - (4) Caldwell, Nelson - A Larger Extent for the Ophiuchus Stream\n",
      "78 - (4) Price-Whelan, Adrian M. - What Bandwidth Do I Need for My Image?\n",
      "79 - (3) Garavito-Camargo, Nicolás - The Clustering of Orbital Poles Induced by the LMC\n",
      "80 - (3) Grunblatt, Samuel K. - Age-dating Red Giant Stars Associated with Galacti\n",
      "81 - (3) Hedges, Christina - TOI-2076 and TOI-1807: Two Young, Comoving Planeta\n",
      "82 - (3) Miller, Annaliese - Orbital and Stellar Parameters for 2M06464003+0109\n",
      "83 - (1) Sheffield, Allyson A. - Chemodynamically Characterizing the Jhelum Stellar\n",
      "84 - (0) Beaton, Rachael L. - Final Targeting Strategy for the Sloan Digital Sky\n",
      "85 - (0) Hedges, Christina - Erratum: TOI-2076 and TOI-1807: Two young, Comovin\n"
     ]
    }
   ],
   "source": [
    "iter_ = sorted([p for i, p in enumerate(ref_pubs)], \n",
    "               reverse=True, key=lambda x: x['citations'])\n",
    "for i, x in enumerate(iter_):\n",
    "    print('{:02d} - ({}) {} - {}'.format(i+1, x['citations'], \n",
    "                                         x['authors'][0], x['title'][:50]))"
   ]
  },
  {
   "cell_type": "code",
   "execution_count": 8,
   "metadata": {
    "ExecuteTime": {
     "end_time": "2021-12-24T18:04:38.354468Z",
     "start_time": "2021-12-24T18:04:38.344867Z"
    }
   },
   "outputs": [
    {
     "data": {
      "text/plain": [
       "34"
      ]
     },
     "execution_count": 8,
     "metadata": {},
     "output_type": "execute_result"
    }
   ],
   "source": [
    "get_hindex(ref_pubs)"
   ]
  },
  {
   "cell_type": "code",
   "execution_count": 9,
   "metadata": {
    "ExecuteTime": {
     "end_time": "2021-12-24T18:04:39.784245Z",
     "start_time": "2021-12-24T18:04:39.562378Z"
    }
   },
   "outputs": [],
   "source": [
    "bump = []\n",
    "bump2 = []\n",
    "for i in range(len(ref_pubs)):\n",
    "    tmp = copy.deepcopy(ref_pubs)\n",
    "    old_h = get_hindex(ref_pubs)\n",
    "    for j in range(4):\n",
    "        tmp[i]['citations'] += 1 \n",
    "        if get_hindex(tmp) > old_h:\n",
    "            bump.append((i, j+1))\n",
    "            break\n",
    "    \n",
    "#     for k in range(len(ref_pubs)):\n",
    "#         if i == k:\n",
    "#             continue\n",
    "            \n",
    "#         tmp = copy.deepcopy(ref_pubs)\n",
    "#         tmp[i]['citations'] += 1 \n",
    "#         old_h2 = get_hindex(tmp)\n",
    "#         for j in range(2):\n",
    "#             tmp[k]['citations'] += 1 \n",
    "#             if get_hindex(tmp) > old_h2:\n",
    "#                 bump2.append((i, j+1, k))\n",
    "#                 break"
   ]
  },
  {
   "cell_type": "code",
   "execution_count": 10,
   "metadata": {
    "ExecuteTime": {
     "end_time": "2021-12-24T18:04:40.381912Z",
     "start_time": "2021-12-24T18:04:40.376600Z"
    }
   },
   "outputs": [
    {
     "name": "stdout",
     "output_type": "stream",
     "text": [
      "Your h-index will increase +1 if 'Velocity-resolved Reverberation Mapping ...' gets 1 more citations.\n",
      "Your h-index will increase +1 if 'Spending Too Much Time at the Galactic B...' gets 2 more citations.\n",
      "Your h-index will increase +1 if 'Metallicity and α-Element Abundance Grad...' gets 3 more citations.\n",
      "Your h-index will increase +1 if 'Exploring Halo Substructure with Giant S...' gets 3 more citations.\n",
      "Your h-index will increase +1 if 'astroplan: An Open Source Observation Pl...' gets 4 more citations.\n",
      "Your h-index will increase +1 if 'A Disk Origin for the Monoceros Ring and...' gets 4 more citations.\n"
     ]
    }
   ],
   "source": [
    "for i, j in sorted(bump, key=lambda x: x[1]):\n",
    "    print(\"Your h-index will increase +1 if '{}...' gets {} more citations.\"\n",
    "          .format(ref_pubs[i]['title'][:40], j))"
   ]
  },
  {
   "cell_type": "code",
   "execution_count": null,
   "metadata": {},
   "outputs": [],
   "source": []
  }
 ],
 "metadata": {
  "kernelspec": {
   "display_name": "Python [conda env:root] *",
   "language": "python",
   "name": "conda-root-py"
  },
  "language_info": {
   "codemirror_mode": {
    "name": "ipython",
    "version": 3
   },
   "file_extension": ".py",
   "mimetype": "text/x-python",
   "name": "python",
   "nbconvert_exporter": "python",
   "pygments_lexer": "ipython3",
   "version": "3.8.3"
  },
  "toc": {
   "base_numbering": 1,
   "nav_menu": {},
   "number_sections": true,
   "sideBar": true,
   "skip_h1_title": false,
   "title_cell": "Table of Contents",
   "title_sidebar": "Contents",
   "toc_cell": false,
   "toc_position": {},
   "toc_section_display": true,
   "toc_window_display": false
  }
 },
 "nbformat": 4,
 "nbformat_minor": 2
}
